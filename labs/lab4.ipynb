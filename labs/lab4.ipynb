{
 "cells": [
  {
   "cell_type": "markdown",
   "metadata": {
    "id": "NGzC3uqmuKZB",
    "pycharm": {
     "name": "#%% md\n"
    }
   },
   "source": [
    "# Lab 4: Q-table based reinforcement learning"
   ]
  },
  {
   "cell_type": "markdown",
   "metadata": {
    "id": "KYeKUsX8uXSF",
    "pycharm": {
     "name": "#%% md\n"
    }
   },
   "source": [
    "\n",
    "\n",
    "Solve [`FrozenLake8x8-v1`](https://www.gymlibrary.dev/environments/toy_text/frozen_lake/) using a Q-table.\n"
   ]
  },
  {
   "cell_type": "markdown",
   "metadata": {
    "id": "hGAOGNSWyncb",
    "pycharm": {
     "name": "#%% md\n"
    }
   },
   "source": [
    "1. Import Necessary Packages (e.g. `gym`, `numpy`):"
   ]
  },
  {
   "cell_type": "code",
   "execution_count": 35,
   "metadata": {},
   "outputs": [],
   "source": [
    "import gym\n",
    "import sys\n",
    "import matplotlib.pyplot as plt; plt.rcdefaults()\n",
    "import numpy as np\n",
    "import random\n",
    "from gym.utils.play import play"
   ]
  },
  {
   "cell_type": "markdown",
   "metadata": {
    "id": "V7KHXZDxys6J",
    "pycharm": {
     "name": "#%% md\n"
    }
   },
   "source": [
    "\n",
    "2. Instantiate the Environment and Agent"
   ]
  },
  {
   "cell_type": "code",
   "execution_count": 61,
   "metadata": {},
   "outputs": [],
   "source": [
    "#env = gym.make('FrozenLake8x8-v1', desc=None, map_name=\"8x8\", is_slippery=False, render_mode='human')\n",
    "#env = gym.make('FrozenLake-v1', desc=None, map_name=\"4x4\", is_slippery=False, render_mode='human')\n",
    "env = gym.make('FrozenLake8x8-v1', desc=None, map_name=\"8x8\", is_slippery=False)\n",
    "#env = gym.make('FrozenLake-v1', desc=None, map_name=\"4x4\", is_slippery=False)\n",
    "action_size = env.action_space.n\n",
    "state_size = env.observation_space.n"
   ]
  },
  {
   "cell_type": "markdown",
   "metadata": {
    "id": "QMs2BVFZywAJ",
    "pycharm": {
     "name": "#%% md\n"
    }
   },
   "source": [
    "3. Set up the QTable:"
   ]
  },
  {
   "cell_type": "code",
   "execution_count": 4,
   "metadata": {},
   "outputs": [],
   "source": [
    "learning_rate = 0.1\n",
    "discount_rate = 0.9\n",
    "\n",
    "def update_q_table(qt, reward, prev_state, action, state):\n",
    "    qt[prev_state, action] = qt[prev_state, action] + learning_rate * \\\n",
    "                                   (reward + discount_rate * np.max(qt[state]) - qt[prev_state, action])\n",
    "\n",
    "def get_best_action(qt, state):\n",
    "    return np.argmax(qt[state])\n",
    "\n",
    "#q_table = np.zeros((state_size, action_size))"
   ]
  },
  {
   "cell_type": "markdown",
   "metadata": {
    "id": "YHuDteJVy2_C",
    "pycharm": {
     "name": "#%% md\n"
    }
   },
   "source": [
    "4. The Q-Learning algorithm training"
   ]
  },
  {
   "cell_type": "code",
   "execution_count": 69,
   "metadata": {},
   "outputs": [],
   "source": [
    "def train_q_table_penalty(env, max_steps=40, episodes_count=10000, exploration=0.9, explore_reduction=0.99, explore_min=0.01):\n",
    "    q_table = np.zeros((state_size, action_size))\n",
    "\n",
    "    fcs = 0 # first consistent solution\n",
    "    csr = 0 # consistent solution runs\n",
    "    \n",
    "    bsf = 0 # best solution found\n",
    "    bsr = 0 # best solution runs\n",
    "\n",
    "    for i in range(0, episodes_count):\n",
    "        last_observation = env.observation_space.sample()\n",
    "        terminated = False\n",
    "        steps = 0\n",
    "\n",
    "        while not terminated:\n",
    "\n",
    "            if exploration < random.uniform(0, 1):\n",
    "                action = get_best_action(q_table, last_observation)\n",
    "            else:\n",
    "                action = env.action_space.sample()\n",
    "\n",
    "            observation, reward, terminated, truncated, info = env.step(action)\n",
    "\n",
    "            if reward == 1:\n",
    "                if fcs == 0:\n",
    "                    if csr == 10:\n",
    "                        fcs = i\n",
    "                        #print(\"First solution found at episode: \", fcs)\n",
    "                    else:\n",
    "                        csr += 1\n",
    "\n",
    "                if steps < bsf:\n",
    "                    bsr += 1\n",
    "                    if bsr == 10:\n",
    "                        bsf = steps\n",
    "\n",
    "            if terminated or truncated or steps >= max_steps:\n",
    "                if reward == 0:\n",
    "                    update_q_table(q_table, -1, last_observation, action, observation)\n",
    "                    last_observation = observation\n",
    "\n",
    "                if exploration > explore_min:\n",
    "                    exploration *= explore_reduction\n",
    "\n",
    "                observation, info = env.reset()\n",
    "                break\n",
    "\n",
    "            update_q_table(q_table, reward, last_observation, action, observation)\n",
    "\n",
    "            last_observation = observation\n",
    "            steps += 1\n",
    "    return q_table, (fcs, bsf, 'Lake penalty')\n",
    "\n",
    "def train_q_table_naive(env, max_steps=40, episodes_count=10000, exploration=0.9, explore_reduction=0.95, explore_min=0.01):\n",
    "    q_table = np.zeros((state_size, action_size))\n",
    "\n",
    "    fcs = 0 # first consistent solution\n",
    "    csr = 0 # consistent solution runs\n",
    "    \n",
    "    bsf = 0 # best solution found\n",
    "    bsr = 0 # best solution runs\n",
    "\n",
    "    for i in range(0, episodes_count):\n",
    "        last_observation,_ = env.reset()\n",
    "        terminated = False\n",
    "        steps = 0\n",
    "    \n",
    "        while not terminated:\n",
    "        \n",
    "            # Get action either randomly or from the q table:\n",
    "            if exploration < random.uniform(0, 1):\n",
    "                action = get_best_action(q_table, last_observation)\n",
    "            else:\n",
    "                action = env.action_space.sample()\n",
    "\n",
    "            # Take action in the environment\n",
    "            observation, reward, terminated, truncated, info = env.step(action)\n",
    "            steps += 1\n",
    "\n",
    "            if reward == 1:\n",
    "                if fcs == 0:\n",
    "                    if csr == 10:\n",
    "                        fcs = i\n",
    "                        print(\"First solution found at episode: \", fcs)\n",
    "                    else:\n",
    "                        csr += 1\n",
    "\n",
    "                if steps < bsf:\n",
    "                    bsr += 1\n",
    "                    if bsr == 10:\n",
    "                        bsf = steps\n",
    "\n",
    "            update_q_table(q_table, reward, last_observation, action, observation)\n",
    "\n",
    "            if steps >= max_steps:\n",
    "                break\n",
    "    \n",
    "            last_observation = observation\n",
    "\n",
    "        \n",
    "        # Reduce exploration rate after a run\n",
    "        if exploration > explore_min:\n",
    "            exploration *= explore_reduction\n",
    "    \n",
    "    #print(\"First solution found at episode: \", fcs)\n",
    "    #print(\"Best overall solution: \", bsf)\n",
    "    return q_table, (fcs, bsf, 'Naive')\n",
    "\n",
    "\n",
    "def train_q_table_cost(env, max_steps=40, episodes_count=10000, exploration=0.9, explore_reduction=0.95, explore_min=0.01):\n",
    "    q_table = np.zeros((state_size, action_size))\n",
    "\n",
    "    fcs = 0 # first consistent solution\n",
    "    csr = 0 # consistent solution runs\n",
    "    \n",
    "    bsf = max_steps # best solution found\n",
    "    bsr = 0 # best solution runs\n",
    "\n",
    "    for i in range(0, episodes_count):\n",
    "        last_observation,_ = env.reset()\n",
    "        terminated = False\n",
    "        steps = 0\n",
    "        cost = 0\n",
    "    \n",
    "        while not terminated:\n",
    "\n",
    "            if exploration < random.uniform(0, 1):\n",
    "                action = get_best_action(q_table, last_observation)\n",
    "            else:\n",
    "                action = env.action_space.sample()\n",
    "\n",
    "            # Take action in the environment\n",
    "            observation, reward, terminated, truncated, info = env.step(action)\n",
    "            steps += 1\n",
    "            cost -= 1\n",
    "\n",
    "            if terminated and reward != 1:\n",
    "                cost -= 100\n",
    "\n",
    "            cost += reward\n",
    "\n",
    "            update_q_table(q_table, cost, last_observation, action, observation)\n",
    "\n",
    "            if reward == 1:\n",
    "                if fcs == 0:\n",
    "                    if csr == 10:\n",
    "                        fcs = i\n",
    "                        #print(\"First solution found at episode: \", fcs)\n",
    "                    else:\n",
    "                        csr += 1\n",
    "                        #print(\"csr: \", csr)\n",
    "\n",
    "                if steps < bsf:\n",
    "                    bsr += 1\n",
    "                    if bsr == 10:\n",
    "                        bsf = steps\n",
    "            elif terminated:\n",
    "                csr = 0\n",
    "                bsr = 0\n",
    "\n",
    "            if steps >= max_steps:\n",
    "                break\n",
    "    \n",
    "            last_observation = observation\n",
    "        \n",
    "        if exploration > explore_min:\n",
    "            exploration *= explore_reduction\n",
    "\n",
    "    return q_table, (fcs, bsf, 'Step cost')\n",
    "\n",
    "\n",
    "episode_count = 10000\n",
    "\n",
    "cost_q_table, cost_stats = train_q_table_cost(env, episodes_count=episode_count)\n",
    "naive_q_table, naive_stats = train_q_table_naive(env, episodes_count=episode_count)\n",
    "penalty_q_table, penalty_stats = train_q_table_penalty(env, episodes_count=episode_count)\n",
    "\n",
    "def train_statistics(solutions):\n",
    "    \n",
    "    names = []\n",
    "    firsts = []\n",
    "    bests = []\n",
    "\n",
    "    for sol in solutions:\n",
    "        first, best, name = sol\n",
    "        names.append(name)\n",
    "        firsts.append(first)\n",
    "\n",
    "    #names = tuple(names)\n",
    "\n",
    "    y_pos = np.arange(len(names))\n",
    "\n",
    "    plt.bar(y_pos, firsts, align='center', alpha=0.5)\n",
    "    plt.xticks(y_pos, names)\n",
    "    plt.ylabel('Episode of first consistent solution')\n",
    "    plt.title('First consistent solutions')\n",
    "\n",
    "    plt.show()\n",
    "    \n",
    "\n",
    "solutions = [cost_stats, naive_stats, penalty_stats]\n",
    "\n",
    "train_statistics(solutions)"
   ]
  },
  {
   "cell_type": "markdown",
   "metadata": {
    "id": "Mm8oigYjzFTd",
    "pycharm": {
     "name": "#%% md\n"
    }
   },
   "source": [
    "5. Evaluate how well your agent performs\n",
    "* Render output of one episode\n",
    "* Give an average episode return"
   ]
  },
  {
   "cell_type": "code",
   "execution_count": null,
   "metadata": {},
   "outputs": [
    {
     "name": "stdout",
     "output_type": "stream",
     "text": [
      "Average episode score:  1.0\n"
     ]
    }
   ],
   "source": [
    "def run(env):\n",
    "    state = env.observation_space.sample()\n",
    "    state, _ = env.reset()\n",
    "    terminated = False\n",
    "    truncated = False\n",
    "    while not terminated and not truncated:\n",
    "        # Get action either randomly or from the q table\n",
    "        action = get_best_action(state)\n",
    "\n",
    "        # Take action in the environment\n",
    "        state, reward, terminated, truncated, _ = env.step(action)\n",
    "    return reward\n",
    "\n",
    "\n",
    "# Run one episode\n",
    "def q_table_statistics(episode_count=100):\n",
    "    env2 = gym.make('FrozenLake8x8-v1', desc=None, map_name=\"8x8\", is_slippery=False, render_mode='human')\n",
    "    run(env2)\n",
    "    env2.close()\n",
    "\n",
    "    score_sum = 0\n",
    "\n",
    "    for i in range(episode_count):\n",
    "        score = run(env)\n",
    "        score_sum += score\n",
    "    \n",
    "    print(\"Average episode score: \", float(score_sum)/ float(episode_count))\n",
    "\n",
    "q_table_statistics()"
   ]
  },
  {
   "cell_type": "markdown",
   "metadata": {
    "pycharm": {
     "name": "#%% md\n"
    }
   },
   "source": [
    "6. (<i>Optional</i>) Adapt code for one of the continuous [Classical Control](https://www.gymlibrary.dev/environments/classic_control/) problems. Think/talk about how you could use our  `Model` class from last Thursday to decide actions."
   ]
  }
 ],
 "metadata": {
  "colab": {
   "authorship_tag": "ABX9TyOtNkS92UHFInFg+R4UDAlq",
   "name": "Reinforcement_learning.ipynb",
   "provenance": []
  },
  "kernelspec": {
   "display_name": "Python 3.10.7 64-bit",
   "language": "python",
   "name": "python3"
  },
  "language_info": {
   "codemirror_mode": {
    "name": "ipython",
    "version": 3
   },
   "file_extension": ".py",
   "mimetype": "text/x-python",
   "name": "python",
   "nbconvert_exporter": "python",
   "pygments_lexer": "ipython3",
   "version": "3.10.7"
  },
  "vscode": {
   "interpreter": {
    "hash": "d3e10ef16274dd72e574b8fa73b58450b957d8421a2901baded3cca26fcf5dda"
   }
  }
 },
 "nbformat": 4,
 "nbformat_minor": 4
}
