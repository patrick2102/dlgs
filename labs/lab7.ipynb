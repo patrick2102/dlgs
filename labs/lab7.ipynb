{
 "nbformat": 4,
 "nbformat_minor": 0,
 "metadata": {
  "colab": {
   "name": "lab.ipynb",
   "provenance": []
  },
  "kernelspec": {
   "name": "python3",
   "display_name": "Python 3"
  }
 },
 "cells": [
  {
   "cell_type": "markdown",
   "metadata": {
    "id": "0V9I6y4g9zrj",
    "pycharm": {
     "name": "#%% md\n"
    }
   },
   "source": [
    "# Genetic Algorithms with DEAP\n",
    "\n",
    "Source: [Kevin Sikorski](https://colab.research.google.com/github/jfogarty/machine-learning-intro-workshop/blob/master/notebooks/genetic-algorithms-with-deap.ipynb)\n",
    "\n",
    "In this lab, we will first learn how to use a simple and easy-to-use implementation of a Genetic Algorithm using DEAP library in Python.\n",
    "Then you'll write code that optimised position in artificial landscapes, use GA on a simple neuralnet to control a game, and use Hebbian Learning to implement simple logic gates."
   ]
  },
  {
   "cell_type": "markdown",
   "metadata": {
    "id": "BSZa4hf3qyRO",
    "pycharm": {
     "name": "#%% md\n"
    }
   },
   "source": [
    "# Terminology\n",
    "\n",
    "### Individual\n",
    "Genetic Algorithms make use of an analogy to genetics, where we use a population of randomly generated individuals, each with some genetic code.  This code represents a potential solution to the problem.  The representation of the solution depends on the particular problem we are addressing, but it generally consists of a data structure.  It could contain one or more strings like \"ACGTCACTCGGATGC\" if we are dealing with DNA, real-valued data if we are dealing with vectors, arbitrary and mutually-exclusive concepts like \"January\", \"February\", and \"December\", or anything else. \n",
    "\n",
    "### Fitness \n",
    "Since these solutions are chosen at random, some are better than others.  We need to be able to evaluate how good a particular solution is.  We do this by defining a fitness function (called an evaulation function in the example below).  This takes in an individual or its genetic code, and outputs a scalar number that allows us to compare fitness between individuals.\n",
    "\n",
    "### Mutation\n",
    "In the real world, genetic code mutates due to random events like cosmic rays and nuclear decay, or due to random transcription errors.  We simulate this in genetic algorithms with a mutation rate.  Here with a low probability, we randomly change one or more elements of the genetic code of an individual.  This might be changing a number encoded in it (either a little or a lot), flipping a bit in a string, or randomizing the month in a date-time field.\n",
    "\n",
    "### Crossover\n",
    "In the real world, mating between individuals produces offspring with genetic code that is a combination of the parents.  This is simulated with crossover.  In the first diagram below we show two parents at the top, each with different genetic material.  Two offspring are shown below, each the product of crossover.  The parent's genetic code is broken at a randomly selected point.  The right half of the red parent is attached to the left half of the blue parent to produce one offspring's genes; the remaining pieces are similarly concatenated to make the other offspring's genes.\n",
    "\n",
    "Geometrically, you can think of crossover as a projection of one parent's genetic code to a random plane in the search space that contains the other parent's genetic code.  (This plane will also be aligned with one of the basis vectors of the genetic code.)  The Crossover as projection diagram below shows an example involving two parents in magenta with genetic code (0,0) and (1,1).  When crossover occurs, we produce the cyan individuals with genetic code (0,1) and (1,0) by taking the first element from one parent and the second element from the second parent.  Or phrased geometrically, by projecting one parent's point to the Y-axis (the basis vector for the second element of the genetic code), and the the other parent's point to the X-axis."
   ]
  },
  {
   "cell_type": "code",
   "metadata": {
    "id": "NCUOiAsN2uhD",
    "colab": {
     "base_uri": "https://localhost:8080/",
     "height": 281
    },
    "outputId": "ca3d51a9-0442-49a6-c1fb-dfbeda0cf49d",
    "pycharm": {
     "name": "#%%\n"
    }
   },
   "source": [
    "import matplotlib.pyplot as plt\n",
    "\n",
    "plt.subplot(1,2,1)\n",
    "plt.title(\"Crossover\")\n",
    "fig=plt.plot((0, 1), (5, 5), linewidth=5, color='b')\n",
    "fig=plt.plot((0, 1), (4, 4), linewidth=5, color='r')\n",
    "fig=plt.plot((0, 0.6), (2, 2), linewidth=5, color='b')\n",
    "fig=plt.plot((0, 0.6), (1, 1), linewidth=5, color='r')\n",
    "fig=plt.plot((0.6, 1), (1, 1), linewidth=5, color='b')\n",
    "fig=plt.plot((0.6, 1), (2, 2), linewidth=5, color='r')\n",
    "\n",
    "plt.subplot(1,2,2)\n",
    "plt.scatter([0, 1], [0,1], color='m', lw=3)\n",
    "plt.scatter([1, 0], [0,1], color='c', lw=3)\n",
    "plt.title(\"Crossover as projection\")\n",
    "\n",
    "plt.show()"
   ],
   "execution_count": null,
   "outputs": []
  },
  {
   "cell_type": "markdown",
   "metadata": {
    "id": "MQo4tsn4-PoP",
    "pycharm": {
     "name": "#%% md\n"
    }
   },
   "source": [
    "# One Max Problem\n",
    "This example will help new users to overview some of the DEAP framework’s possibilities and illustrate the potential of evolutionary algorithms in general. The problem itself is both very simple and widely used in the evolutionary computational community. We will create a population of individuals consisting of integer vectors randomly filled with 0 and 1. Then we let our population evolve until one of its members contains only 1 and no 0 anymore.\n"
   ]
  },
  {
   "cell_type": "code",
   "metadata": {
    "id": "n1TlDbXM9YBy",
    "colab": {
     "base_uri": "https://localhost:8080/"
    },
    "outputId": "2bf3c5c0-5303-4c04-ed50-dca816eb88b4",
    "pycharm": {
     "name": "#%%\n"
    }
   },
   "source": [
    "import random\n",
    "\n",
    "!pip install deap\n",
    "from deap import base\n",
    "from deap import creator\n",
    "from deap import tools\n",
    "  "
   ],
   "execution_count": null,
   "outputs": []
  },
  {
   "cell_type": "markdown",
   "metadata": {
    "id": "5j5Cu17P-Wf9",
    "pycharm": {
     "name": "#%% md\n"
    }
   },
   "source": [
    "## Creator\n",
    "Since the actual structure of the required individuals in genetic algorithms does strongly depend on the task at hand, DEAP does not contain any explicit structure. It will rather provide a convenient method for creating containers of attributes, associated with fitnesses, called the deap.creator. Using this method we can create custom individuals in a very simple way.\n",
    "\n",
    "The creator is a class factory that can build new classes at run-time. It will be called with first the desired name of the new class, second the base class it will inherit, and in addition any subsequent arguments you want to become attributes of your class. This allows us to build new and complex structures of any type of container from lists to n-ary trees."
   ]
  },
  {
   "cell_type": "code",
   "metadata": {
    "id": "ZFeTYVBn-XCY",
    "pycharm": {
     "name": "#%%\n"
    }
   },
   "source": [
    "creator.create(\"FitnessMax\", base.Fitness, weights=(1.0,))\n",
    "creator.create(\"Individual\", list, fitness=creator.FitnessMax)"
   ],
   "execution_count": null,
   "outputs": []
  },
  {
   "cell_type": "markdown",
   "metadata": {
    "id": "vi1UTZS1-cdv",
    "pycharm": {
     "name": "#%% md\n"
    }
   },
   "source": [
    "First we will define the class FitnessMax. It will inherit the Fitness class of the deap.base module and contain an additional attribute called weights. Please mind the value of weights to be the tuple (1.0,). This way we will be maximizing a single objective fitness. We can’t repeat it enough, in DEAP single objectives is a special case of multi objectives.\n",
    "\n",
    "Next we will create the class Individual, which will inherit the class list and contain our previously defined FitnessMax class in its fitness attribute. Note that upon creation all our defined classes will be part of the creator container and can be called directly.\n",
    "\n",
    "## Toolbox\n",
    "Now we will use our custom classes to create types representing our individuals as well as our whole population.\n",
    "\n",
    "All the objects we will use on our way, an individual, the population, as well as all functions, operators, and arguments will be stored in a DEAP container called Toolbox. It contains two methods for adding and removing content, register() and unregister()."
   ]
  },
  {
   "cell_type": "code",
   "metadata": {
    "id": "HS3iXNSW-gS8",
    "pycharm": {
     "name": "#%%\n"
    }
   },
   "source": [
    "toolbox = base.Toolbox()\n",
    "# Attribute generator \n",
    "toolbox.register(\"attr_bool\", random.randint, 0, 1)\n",
    "# Structure initializers\n",
    "toolbox.register(\"individual\", tools.initRepeat, creator.Individual, \n",
    "    toolbox.attr_bool, 100)\n",
    "toolbox.register(\"population\", tools.initRepeat, list, toolbox.individual)"
   ],
   "execution_count": null,
   "outputs": []
  },
  {
   "cell_type": "markdown",
   "metadata": {
    "id": "JO9v6Wx_-jam",
    "pycharm": {
     "name": "#%% md\n"
    }
   },
   "source": [
    "In this code block we register a generation function toolbox.attr_bool() and two initialization ones individual() and population(). toolbox.attr_bool(), when called, will draw a random integer between 0 and 1. The two initializers, on the other hand, will instantiate an individual or population.\n",
    "\n",
    "The registration of the tools to the toolbox only associates aliases to the already existing functions and freezes part of their arguments. This allows us to fix an arbitrary amount of argument at certain values so we only have to specify the remaining ones when calling the method. For example, the attr_bool() generator is made from the randint() function that takes two arguments a and b, with a <= n <= b, where n is the returned integer. Here, we fix a = 0 and b = 1.\n",
    "\n",
    "Our individuals will be generated using the function initRepeat(). Its first argument is a container class, in our example the Individual one we defined in the previous section. This container will be filled using the method attr_bool(), provided as second argument, and will contain 100 integers, as specified using the third argument. When called, the individual() method will thus return an individual initialized with what would be returned by calling the attr_bool() method 100 times. Finally, the population() method uses the same paradigm, but we don’t fix the number of individuals that it should contain.\n",
    "\n",
    "## The Evaluation Function\n",
    "The evaluation function is pretty simple in our example. We just need to count the number of ones in an individual."
   ]
  },
  {
   "cell_type": "code",
   "metadata": {
    "id": "s9XjIzai-lvs",
    "colab": {
     "base_uri": "https://localhost:8080/"
    },
    "outputId": "83d25dd8-66a7-457c-c3c6-4e0121940702",
    "pycharm": {
     "name": "#%%\n"
    }
   },
   "source": [
    "def evalOneMax(individual):\n",
    "    return sum(individual),\n",
    "  \n",
    "print(evalOneMax([0,0,0,0]))\n",
    "print(evalOneMax([0,1,0,1]))\n",
    "print(evalOneMax([1,1,1,1]))\n"
   ],
   "execution_count": null,
   "outputs": []
  },
  {
   "cell_type": "markdown",
   "metadata": {
    "id": "vhwe8gl3-nVT",
    "pycharm": {
     "name": "#%% md\n"
    }
   },
   "source": [
    "## The Genetic Operators\n",
    "Within DEAP there are two ways of using operators. We can either simply call a function from the tools module or register it with its arguments in a toolbox, as we have already seen for our initialization methods. The most convenient way, however, is to register them in the toolbox, because this allows us to easily switch between the operators if desired. The toolbox method is also used when working with the algorithms module. See the [One Max Problem: Short Version](https://deap.readthedocs.io/en/master/examples/ga_onemax_short.html#short-ga-onemax) for an example.\n",
    "\n",
    "Registering the genetic operators required for the evolution in our One Max problem and their default arguments in the toolbox is done as follows."
   ]
  },
  {
   "cell_type": "code",
   "metadata": {
    "id": "AoLoTIuj-ppU",
    "pycharm": {
     "name": "#%%\n"
    }
   },
   "source": [
    "toolbox.register(\"evaluate\", evalOneMax)\n",
    "toolbox.register(\"mate\", tools.cxTwoPoint)\n",
    "toolbox.register(\"mutate\", tools.mutFlipBit, indpb=0.05)\n",
    "toolbox.register(\"select\", tools.selTournament, tournsize=3)"
   ],
   "execution_count": null,
   "outputs": []
  },
  {
   "cell_type": "markdown",
   "metadata": {
    "id": "pzSud0CF-q_y",
    "pycharm": {
     "name": "#%% md\n"
    }
   },
   "source": [
    "The evaluation will be performed by calling the alias evaluate. It is important to not fix its argument in here. We will need it later on to apply the function to each separate individual in our population. The mutation, on the other hand, needs an argument to be fixed (the independent probability of each attribute to be mutated indpb).\n",
    "\n",
    "## Evolving the Population\n",
    "Once the representation and the genetic operators are chosen, we will define an algorithm combining all the individual parts and performing the evolution of our population until the One Max problem is solved.\n",
    "\n",
    "## Creating the Population\n",
    "First of all, we need to actually instantiate our population. But this step is effortlessly done using the population() method we registered in our toolbox earlier on."
   ]
  },
  {
   "cell_type": "code",
   "metadata": {
    "id": "F30uZtcp-u79",
    "pycharm": {
     "name": "#%%\n"
    }
   },
   "source": [
    "pop = toolbox.population(n=300)\n",
    "\n",
    "# Evaluate the entire population\n",
    "fitnesses = list(map(toolbox.evaluate, pop))\n",
    "for ind, fit in zip(pop, fitnesses):\n",
    "    ind.fitness.values = fit\n"
   ],
   "execution_count": null,
   "outputs": []
  },
  {
   "cell_type": "markdown",
   "metadata": {
    "id": "bUw_9gTr-wjK",
    "pycharm": {
     "name": "#%% md\n"
    }
   },
   "source": [
    "**pop** will be a list composed of 300 individuals. Since we left the parameter **n** open during the registration of the population() method in our toolbox, we are free to create populations of arbitrary size.\n",
    "\n",
    "Before we go on, this is the time to define some constants we will use later on."
   ]
  },
  {
   "cell_type": "code",
   "metadata": {
    "id": "Dx5L38zU-x1H",
    "pycharm": {
     "name": "#%%\n"
    }
   },
   "source": [
    "# CXPB  is the probability with which two individuals\n",
    "#       are crossed\n",
    "#\n",
    "# MUTPB is the probability for mutating an individual\n",
    "CXPB, MUTPB = 0.5, 0.2"
   ],
   "execution_count": null,
   "outputs": []
  },
  {
   "cell_type": "markdown",
   "metadata": {
    "id": "V1QT9wKN-2E8",
    "pycharm": {
     "name": "#%% md\n"
    }
   },
   "source": [
    "## Evaluating the Population\n",
    "The next thing to do is to evaluate our brand new population.  We map() the evaluation function to every individual and then assign their respective fitness. Note that the order in fitnesses and population is the same.\n",
    "\n",
    "The evolution of the population is the final step we have to accomplish. Recall, our individuals consist of 100 integer numbers and we want to evolve our population until we got at least one individual consisting of only 1s and no 0s. So all we have to do is to obtain the fitness values of the individuals!\n",
    "\n",
    "To check the performance of the evolution, we will calculate and print the minimal, maximal, and mean values of the fitnesses of all individuals in our population as well as their standard deviations."
   ]
  },
  {
   "cell_type": "code",
   "metadata": {
    "id": "PtryFa_TJxWa",
    "colab": {
     "base_uri": "https://localhost:8080/"
    },
    "outputId": "24d864d4-9ee9-4d7a-95df-a67978dd3024",
    "pycharm": {
     "name": "#%%\n"
    }
   },
   "source": [
    "def findFitness():\n",
    "    fits = [ind.fitness.values[0] for ind in pop]\n",
    "        \n",
    "    length = len(pop)\n",
    "    mean = sum(fits) / length\n",
    "    sum2 = sum(x*x for x in fits)\n",
    "    std = abs(sum2 / length - mean**2)**0.5\n",
    "\n",
    "    print(\"  Min %s\" % min(fits))\n",
    "    print(\"  Max %s\" % max(fits))\n",
    "    print(\"  Avg %s\" % mean)\n",
    "    print(\"  Std %s\" % std)\n",
    "    return fits\n",
    "    \n",
    "fits=findFitness()"
   ],
   "execution_count": null,
   "outputs": []
  },
  {
   "cell_type": "markdown",
   "metadata": {
    "id": "Dfh6gnNQ-5Wy",
    "pycharm": {
     "name": "#%% md\n"
    }
   },
   "source": [
    "## Mating and Mutation\n",
    "\n",
    "In genetic algorithms, evolution occurs via either mutation or crossover, both of which happen (or don't happen) randomly.  In mutation, we change one or more of the genes of one of our individuals.  In cross-over, two individuals are mated to mix their genes.\n",
    "\n",
    "The crossover (or mating) and mutation operators, provided within DEAP, usually take respectively 2 or 1 individual(s) as input and return 2 or 1 modified individual(s). In addition they modify those individuals within the toolbox container and we do not need to reassign their results.\n",
    "\n",
    "We will perform both the crossover (mating) and the mutation of the produced children with a certain probability of CXPB and MUTPB. The del statement will invalidate the fitness of the modified offspring."
   ]
  },
  {
   "cell_type": "code",
   "metadata": {
    "id": "M6ssqRncEIDN",
    "pycharm": {
     "name": "#%%\n"
    }
   },
   "source": [
    "def mateAndMutate(offspring):\n",
    "    for child1, child2 in zip(offspring[::2], offspring[1::2]):\n",
    "        if random.random() < CXPB:\n",
    "            toolbox.mate(child1, child2)\n",
    "            del child1.fitness.values\n",
    "            del child2.fitness.values\n",
    "\n",
    "    for mutant in offspring:\n",
    "        if random.random() < MUTPB:\n",
    "            toolbox.mutate(mutant)\n",
    "            del mutant.fitness.values\n",
    "            \n"
   ],
   "execution_count": null,
   "outputs": []
  },
  {
   "cell_type": "markdown",
   "metadata": {
    "id": "mEOPfK92--q-",
    "pycharm": {
     "name": "#%% md\n"
    }
   },
   "source": [
    "## The Main Loop\n",
    "\n",
    "This will creates an offspring list, which is an exact copy of the selected individuals. The toolbox.clone() method ensure that we don’t use a reference to the individuals but an completely independent instance. This is of utter importance since the genetic operators in toolbox will modify the provided objects in-place.\n",
    "\n",
    "We then mutate and mate the individuals to find the next generation of individuals.  We evaluate them, and continue until one of our individuals evolves to be the perfect organism (fitness of 100 or more), or until the number of generations reaches 1000.\n",
    "\n",
    "At each generation, we output some statistics about that generation's population, as well as a graph of the genetic material for an arbitrary individual.  A 0 in the genetic material is drawn in red, and a 1 is drawn in blue."
   ]
  },
  {
   "cell_type": "code",
   "metadata": {
    "id": "Df-rsxoX-6vj",
    "colab": {
     "base_uri": "https://localhost:8080/",
     "height": 1000
    },
    "outputId": "36264f12-cbce-41a3-f8fe-9ce3018a17a6",
    "pycharm": {
     "name": "#%%\n"
    }
   },
   "source": [
    "import numpy as np\n",
    "# Variable keeping track of the number of generations\n",
    "g = 0\n",
    "\n",
    "# Begin the evolution\n",
    "while max(fits) < 100 and g < 1000:\n",
    "    # A new generation\n",
    "    g = g + 1\n",
    "    print(\"-- Generation %i --\" % g)\n",
    "    # Select the next generation individuals\n",
    "    offspring = toolbox.select(pop, len(pop))\n",
    "    # Clone the selected individuals\n",
    "    offspring = list(map(toolbox.clone, offspring))\n",
    "    \n",
    "    # Apply crossover and mutation on the offspring\n",
    "    mateAndMutate(offspring)\n",
    "    \n",
    "    # Evaluate the individuals with an invalid fitness\n",
    "    invalid_ind = [ind for ind in offspring if not ind.fitness.valid]\n",
    "    fitnesses = map(toolbox.evaluate, invalid_ind)\n",
    "    for ind, fit in zip(invalid_ind, fitnesses):\n",
    "        ind.fitness.values = fit\n",
    "    pop[:] = offspring\n",
    "    \n",
    "    # print statistics on our updated population\n",
    "    fits=findFitness()\n",
    "\n",
    "    # plot an arbitrary organism\n",
    "    x = [i/100 for i in range(len(pop[0]))]\n",
    "    y = [1 for i in x]\n",
    "    colors = ['r' if pop[0][i]==0 else 'b' for i in range(len(pop[0]))]\n",
    "    plt.scatter(x, y, c=colors, alpha=0.5)\n",
    "    plt.show()\n",
    "plt.scatter(x,y, c=colors, alpha=.5)\n",
    "plt.show()"
   ],
   "execution_count": null,
   "outputs": []
  },
  {
   "cell_type": "markdown",
   "metadata": {
    "id": "Cot8XdQGq5Fq",
    "pycharm": {
     "name": "#%% md\n"
    }
   },
   "source": [
    "# Your tasks:\n",
    "This lab *is* fairly open-ended. I look forward to seeing what you come up with:\n",
    "\n",
    "## 1. Find optimum with ES.\n",
    "Chose an [artificial landscape](https://en.wikipedia.org/wiki/Test_functions_for_optimization). Find optimum using an evolutionary strategy we talked about in class."
   ]
  },
  {
   "cell_type": "code",
   "execution_count": null,
   "outputs": [],
   "source": [
    "# Your code here"
   ],
   "metadata": {
    "collapsed": false,
    "pycharm": {
     "name": "#%%\n"
    }
   }
  },
  {
   "cell_type": "markdown",
   "source": [
    "## 2. Evolve a simple gaming neural net with GA.\n",
    "Evolve a neural network that plays a game of your choice from `gym` (LunarLander-v2 is cool).\n",
    "We don't need `torch` since we don't care about gradients. We can use numpy—numpy matrices can easily be multiplied.\n",
    "`deap` *can* deal with numpy arrays, though I recommend making functions that map weights to lists and vice versa."
   ],
   "metadata": {
    "collapsed": false,
    "pycharm": {
     "name": "#%% md\n"
    }
   }
  },
  {
   "cell_type": "code",
   "execution_count": null,
   "outputs": [],
   "source": [
    "# Your code here"
   ],
   "metadata": {
    "collapsed": false,
    "pycharm": {
     "name": "#%%\n"
    }
   }
  },
  {
   "cell_type": "markdown",
   "source": [
    "## 3. Implement Hebbian Learning on AND and OR logic gates.\n",
    "Make functions that given an input of the kind `[1,1,0]`, `[0,0,0]`, etc.:\n",
    "1. Returns 1 if input is all ones, otherwise 0 (AND).\n",
    "2. Returns 1 if at least one element is 1, otherwise 0 (OR).\n",
    "3. Optional: XOR."
   ],
   "metadata": {
    "collapsed": false,
    "pycharm": {
     "name": "#%% md\n"
    }
   }
  },
  {
   "cell_type": "code",
   "execution_count": null,
   "outputs": [],
   "source": [
    "# Your code"
   ],
   "metadata": {
    "collapsed": false,
    "pycharm": {
     "name": "#%%\n"
    }
   }
  },
  {
   "cell_type": "markdown",
   "source": [
    "## Optional (and awesome): Do Hebbian Learning over Reinforcement Learning for the Lunar Lander from gym (LunarLander-v2).\n",
    "![](https://www.gymlibrary.dev/_images/lunar_lander.gif)"
   ],
   "metadata": {
    "collapsed": false,
    "pycharm": {
     "name": "#%% md\n"
    }
   }
  },
  {
   "cell_type": "code",
   "execution_count": null,
   "outputs": [],
   "source": [
    "# Your code"
   ],
   "metadata": {
    "collapsed": false,
    "pycharm": {
     "name": "#%%\n"
    }
   }
  }
 ]
}