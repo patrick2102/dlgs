{
  "cells": [
    {
      "cell_type": "markdown",
      "metadata": {
        "id": "0V9I6y4g9zrj",
        "pycharm": {
          "name": "#%% md\n"
        }
      },
      "source": [
        "# Genetic Algorithms with DEAP\n",
        "\n",
        "Source: [Kevin Sikorski](https://colab.research.google.com/github/jfogarty/machine-learning-intro-workshop/blob/master/notebooks/genetic-algorithms-with-deap.ipynb)\n",
        "\n",
        "In this lab, we will first learn how to use a simple and easy-to-use implementation of a Genetic Algorithm using DEAP library in Python.\n",
        "Then you'll write code that optimised position in artificial landscapes, use GA on a simple neuralnet to control a game, and use Hebbian Learning to implement simple logic gates."
      ]
    },
    {
      "cell_type": "markdown",
      "metadata": {
        "id": "BSZa4hf3qyRO",
        "pycharm": {
          "name": "#%% md\n"
        }
      },
      "source": [
        "# Terminology\n",
        "\n",
        "### Individual\n",
        "Genetic Algorithms make use of an analogy to genetics, where we use a population of randomly generated individuals, each with some genetic code.  This code represents a potential solution to the problem.  The representation of the solution depends on the particular problem we are addressing, but it generally consists of a data structure.  It could contain one or more strings like \"ACGTCACTCGGATGC\" if we are dealing with DNA, real-valued data if we are dealing with vectors, arbitrary and mutually-exclusive concepts like \"January\", \"February\", and \"December\", or anything else. \n",
        "\n",
        "### Fitness \n",
        "Since these solutions are chosen at random, some are better than others.  We need to be able to evaluate how good a particular solution is.  We do this by defining a fitness function (called an evaulation function in the example below).  This takes in an individual or its genetic code, and outputs a scalar number that allows us to compare fitness between individuals.\n",
        "\n",
        "### Mutation\n",
        "In the real world, genetic code mutates due to random events like cosmic rays and nuclear decay, or due to random transcription errors.  We simulate this in genetic algorithms with a mutation rate.  Here with a low probability, we randomly change one or more elements of the genetic code of an individual.  This might be changing a number encoded in it (either a little or a lot), flipping a bit in a string, or randomizing the month in a date-time field.\n",
        "\n",
        "### Crossover\n",
        "In the real world, mating between individuals produces offspring with genetic code that is a combination of the parents.  This is simulated with crossover.  In the first diagram below we show two parents at the top, each with different genetic material.  Two offspring are shown below, each the product of crossover.  The parent's genetic code is broken at a randomly selected point.  The right half of the red parent is attached to the left half of the blue parent to produce one offspring's genes; the remaining pieces are similarly concatenated to make the other offspring's genes.\n",
        "\n",
        "Geometrically, you can think of crossover as a projection of one parent's genetic code to a random plane in the search space that contains the other parent's genetic code.  (This plane will also be aligned with one of the basis vectors of the genetic code.)  The Crossover as projection diagram below shows an example involving two parents in magenta with genetic code (0,0) and (1,1).  When crossover occurs, we produce the cyan individuals with genetic code (0,1) and (1,0) by taking the first element from one parent and the second element from the second parent.  Or phrased geometrically, by projecting one parent's point to the Y-axis (the basis vector for the second element of the genetic code), and the the other parent's point to the X-axis."
      ]
    },
    {
      "cell_type": "code",
      "execution_count": 3,
      "metadata": {
        "colab": {
          "base_uri": "https://localhost:8080/",
          "height": 281
        },
        "id": "NCUOiAsN2uhD",
        "outputId": "fc2e08df-f795-473c-f5e1-23e237e97fee",
        "pycharm": {
          "name": "#%%\n"
        }
      },
      "outputs": [],
      "source": [
        "import matplotlib.pyplot as plt\n",
        "\n",
        "plt.subplot(1,2,1)\n",
        "plt.title(\"Crossover\")\n",
        "fig=plt.plot((0, 1), (5, 5), linewidth=5, color='b')\n",
        "fig=plt.plot((0, 1), (4, 4), linewidth=5, color='r')\n",
        "fig=plt.plot((0, 0.6), (2, 2), linewidth=5, color='b')\n",
        "fig=plt.plot((0, 0.6), (1, 1), linewidth=5, color='r')\n",
        "fig=plt.plot((0.6, 1), (1, 1), linewidth=5, color='b')\n",
        "fig=plt.plot((0.6, 1), (2, 2), linewidth=5, color='r')\n",
        "\n",
        "plt.subplot(1,2,2)\n",
        "plt.scatter([0, 1], [0,1], color='m', lw=3)\n",
        "plt.scatter([1, 0], [0,1], color='c', lw=3)\n",
        "plt.title(\"Crossover as projection\")\n",
        "\n",
        "plt.show()"
      ]
    },
    {
      "cell_type": "markdown",
      "metadata": {
        "id": "MQo4tsn4-PoP",
        "pycharm": {
          "name": "#%% md\n"
        }
      },
      "source": [
        "# One Max Problem\n",
        "This example will help new users to overview some of the DEAP framework’s possibilities and illustrate the potential of evolutionary algorithms in general. The problem itself is both very simple and widely used in the evolutionary computational community. We will create a population of individuals consisting of integer vectors randomly filled with 0 and 1. Then we let our population evolve until one of its members contains only 1 and no 0 anymore.\n"
      ]
    },
    {
      "cell_type": "code",
      "execution_count": 7,
      "metadata": {
        "id": "n1TlDbXM9YBy",
        "pycharm": {
          "name": "#%%\n"
        }
      },
      "outputs": [],
      "source": [
        "import random\n",
        "\n",
        "#!pip install deap\n",
        "from deap import base\n",
        "from deap import creator\n",
        "from deap import tools\n",
        "  "
      ]
    },
    {
      "cell_type": "markdown",
      "metadata": {
        "id": "5j5Cu17P-Wf9",
        "pycharm": {
          "name": "#%% md\n"
        }
      },
      "source": [
        "## Creator\n",
        "Since the actual structure of the required individuals in genetic algorithms does strongly depend on the task at hand, DEAP does not contain any explicit structure. It will rather provide a convenient method for creating containers of attributes, associated with fitnesses, called the deap.creator. Using this method we can create custom individuals in a very simple way.\n",
        "\n",
        "The creator is a class factory that can build new classes at run-time. It will be called with first the desired name of the new class, second the base class it will inherit, and in addition any subsequent arguments you want to become attributes of your class. This allows us to build new and complex structures of any type of container from lists to n-ary trees."
      ]
    },
    {
      "cell_type": "code",
      "execution_count": 4,
      "metadata": {
        "id": "ZFeTYVBn-XCY",
        "pycharm": {
          "name": "#%%\n"
        }
      },
      "outputs": [],
      "source": [
        "creator.create(\"FitnessMax\", base.Fitness, weights=(1.0,))\n",
        "creator.create(\"Individual\", list, fitness=creator.FitnessMax)"
      ]
    },
    {
      "cell_type": "markdown",
      "metadata": {
        "id": "vi1UTZS1-cdv",
        "pycharm": {
          "name": "#%% md\n"
        }
      },
      "source": [
        "First we will define the class FitnessMax. It will inherit the Fitness class of the deap.base module and contain an additional attribute called weights. Please mind the value of weights to be the tuple (1.0,). This way we will be maximizing a single objective fitness. We can’t repeat it enough, in DEAP single objectives is a special case of multi objectives.\n",
        "\n",
        "Next we will create the class Individual, which will inherit the class list and contain our previously defined FitnessMax class in its fitness attribute. Note that upon creation all our defined classes will be part of the creator container and can be called directly.\n",
        "\n",
        "## Toolbox\n",
        "Now we will use our custom classes to create types representing our individuals as well as our whole population.\n",
        "\n",
        "All the objects we will use on our way, an individual, the population, as well as all functions, operators, and arguments will be stored in a DEAP container called Toolbox. It contains two methods for adding and removing content, register() and unregister()."
      ]
    },
    {
      "cell_type": "code",
      "execution_count": 5,
      "metadata": {
        "id": "HS3iXNSW-gS8",
        "pycharm": {
          "name": "#%%\n"
        }
      },
      "outputs": [],
      "source": [
        "toolbox = base.Toolbox()\n",
        "# Attribute generator \n",
        "toolbox.register(\"attr_bool\", random.randint, 0, 1)\n",
        "# Structure initializers\n",
        "toolbox.register(\"individual\", tools.initRepeat, creator.Individual, \n",
        "    toolbox.attr_bool, 100)\n",
        "toolbox.register(\"population\", tools.initRepeat, list, toolbox.individual)"
      ]
    },
    {
      "cell_type": "markdown",
      "metadata": {
        "id": "JO9v6Wx_-jam",
        "pycharm": {
          "name": "#%% md\n"
        }
      },
      "source": [
        "In this code block we register a generation function toolbox.attr_bool() and two initialization ones individual() and population(). toolbox.attr_bool(), when called, will draw a random integer between 0 and 1. The two initializers, on the other hand, will instantiate an individual or population.\n",
        "\n",
        "The registration of the tools to the toolbox only associates aliases to the already existing functions and freezes part of their arguments. This allows us to fix an arbitrary amount of argument at certain values so we only have to specify the remaining ones when calling the method. For example, the attr_bool() generator is made from the randint() function that takes two arguments a and b, with a <= n <= b, where n is the returned integer. Here, we fix a = 0 and b = 1.\n",
        "\n",
        "Our individuals will be generated using the function initRepeat(). Its first argument is a container class, in our example the Individual one we defined in the previous section. This container will be filled using the method attr_bool(), provided as second argument, and will contain 100 integers, as specified using the third argument. When called, the individual() method will thus return an individual initialized with what would be returned by calling the attr_bool() method 100 times. Finally, the population() method uses the same paradigm, but we don’t fix the number of individuals that it should contain.\n",
        "\n",
        "## The Evaluation Function\n",
        "The evaluation function is pretty simple in our example. We just need to count the number of ones in an individual."
      ]
    },
    {
      "cell_type": "code",
      "execution_count": 6,
      "metadata": {
        "colab": {
          "base_uri": "https://localhost:8080/"
        },
        "id": "s9XjIzai-lvs",
        "outputId": "c48b38a8-c35a-4886-d5ab-25b50de02315",
        "pycharm": {
          "name": "#%%\n"
        }
      },
      "outputs": [
        {
          "name": "stdout",
          "output_type": "stream",
          "text": [
            "(0,)\n",
            "(2,)\n",
            "(4,)\n"
          ]
        }
      ],
      "source": [
        "def evalOneMax(individual):\n",
        "    return sum(individual),\n",
        "  \n",
        "print(evalOneMax([0,0,0,0]))\n",
        "print(evalOneMax([0,1,0,1]))\n",
        "print(evalOneMax([1,1,1,1]))"
      ]
    },
    {
      "cell_type": "markdown",
      "metadata": {
        "id": "vhwe8gl3-nVT",
        "pycharm": {
          "name": "#%% md\n"
        }
      },
      "source": [
        "## The Genetic Operators\n",
        "Within DEAP there are two ways of using operators. We can either simply call a function from the tools module or register it with its arguments in a toolbox, as we have already seen for our initialization methods. The most convenient way, however, is to register them in the toolbox, because this allows us to easily switch between the operators if desired. The toolbox method is also used when working with the algorithms module. See the [One Max Problem: Short Version](https://deap.readthedocs.io/en/master/examples/ga_onemax_short.html#short-ga-onemax) for an example.\n",
        "\n",
        "Registering the genetic operators required for the evolution in our One Max problem and their default arguments in the toolbox is done as follows."
      ]
    },
    {
      "cell_type": "code",
      "execution_count": 7,
      "metadata": {
        "id": "AoLoTIuj-ppU",
        "pycharm": {
          "name": "#%%\n"
        }
      },
      "outputs": [],
      "source": [
        "toolbox.register(\"evaluate\", evalOneMax)\n",
        "toolbox.register(\"mate\", tools.cxTwoPoint)\n",
        "toolbox.register(\"mutate\", tools.mutFlipBit, indpb=0.05)\n",
        "toolbox.register(\"select\", tools.selTournament, tournsize=3)"
      ]
    },
    {
      "cell_type": "markdown",
      "metadata": {
        "id": "pzSud0CF-q_y",
        "pycharm": {
          "name": "#%% md\n"
        }
      },
      "source": [
        "The evaluation will be performed by calling the alias evaluate. It is important to not fix its argument in here. We will need it later on to apply the function to each separate individual in our population. The mutation, on the other hand, needs an argument to be fixed (the independent probability of each attribute to be mutated indpb).\n",
        "\n",
        "## Evolving the Population\n",
        "Once the representation and the genetic operators are chosen, we will define an algorithm combining all the individual parts and performing the evolution of our population until the One Max problem is solved.\n",
        "\n",
        "## Creating the Population\n",
        "First of all, we need to actually instantiate our population. But this step is effortlessly done using the population() method we registered in our toolbox earlier on."
      ]
    },
    {
      "cell_type": "code",
      "execution_count": 8,
      "metadata": {
        "id": "F30uZtcp-u79",
        "pycharm": {
          "name": "#%%\n"
        }
      },
      "outputs": [],
      "source": [
        "pop = toolbox.population(n=300)\n",
        "\n",
        "# Evaluate the entire population\n",
        "fitnesses = list(map(toolbox.evaluate, pop))\n",
        "for ind, fit in zip(pop, fitnesses):\n",
        "    ind.fitness.values = fit\n"
      ]
    },
    {
      "cell_type": "markdown",
      "metadata": {
        "id": "bUw_9gTr-wjK",
        "pycharm": {
          "name": "#%% md\n"
        }
      },
      "source": [
        "**pop** will be a list composed of 300 individuals. Since we left the parameter **n** open during the registration of the population() method in our toolbox, we are free to create populations of arbitrary size.\n",
        "\n",
        "Before we go on, this is the time to define some constants we will use later on."
      ]
    },
    {
      "cell_type": "code",
      "execution_count": 9,
      "metadata": {
        "id": "Dx5L38zU-x1H",
        "pycharm": {
          "name": "#%%\n"
        }
      },
      "outputs": [],
      "source": [
        "# CXPB  is the probability with which two individuals\n",
        "#       are crossed\n",
        "#\n",
        "# MUTPB is the probability for mutating an individual\n",
        "CXPB, MUTPB = 0.5, 0.2"
      ]
    },
    {
      "cell_type": "markdown",
      "metadata": {
        "id": "V1QT9wKN-2E8",
        "pycharm": {
          "name": "#%% md\n"
        }
      },
      "source": [
        "## Evaluating the Population\n",
        "The next thing to do is to evaluate our brand new population.  We map() the evaluation function to every individual and then assign their respective fitness. Note that the order in fitnesses and population is the same.\n",
        "\n",
        "The evolution of the population is the final step we have to accomplish. Recall, our individuals consist of 100 integer numbers and we want to evolve our population until we got at least one individual consisting of only 1s and no 0s. So all we have to do is to obtain the fitness values of the individuals!\n",
        "\n",
        "To check the performance of the evolution, we will calculate and print the minimal, maximal, and mean values of the fitnesses of all individuals in our population as well as their standard deviations."
      ]
    },
    {
      "cell_type": "code",
      "execution_count": 10,
      "metadata": {
        "colab": {
          "base_uri": "https://localhost:8080/"
        },
        "id": "PtryFa_TJxWa",
        "outputId": "46c84834-deb3-4c42-c09f-41c164bb2356",
        "pycharm": {
          "name": "#%%\n"
        }
      },
      "outputs": [
        {
          "name": "stdout",
          "output_type": "stream",
          "text": [
            "  Min 36.0\n",
            "  Max 66.0\n",
            "  Avg 50.61333333333334\n",
            "  Std 4.853571422731436\n"
          ]
        }
      ],
      "source": [
        "def findFitness():\n",
        "    fits = [ind.fitness.values[0] for ind in pop]\n",
        "        \n",
        "    length = len(pop)\n",
        "    mean = sum(fits) / length\n",
        "    sum2 = sum(x*x for x in fits)\n",
        "    std = abs(sum2 / length - mean**2)**0.5\n",
        "\n",
        "    print(\"  Min %s\" % min(fits))\n",
        "    print(\"  Max %s\" % max(fits))\n",
        "    print(\"  Avg %s\" % mean)\n",
        "    print(\"  Std %s\" % std)\n",
        "    return fits\n",
        "    \n",
        "fits=findFitness()"
      ]
    },
    {
      "cell_type": "markdown",
      "metadata": {
        "id": "Dfh6gnNQ-5Wy",
        "pycharm": {
          "name": "#%% md\n"
        }
      },
      "source": [
        "## Mating and Mutation\n",
        "\n",
        "In genetic algorithms, evolution occurs via either mutation or crossover, both of which happen (or don't happen) randomly.  In mutation, we change one or more of the genes of one of our individuals.  In cross-over, two individuals are mated to mix their genes.\n",
        "\n",
        "The crossover (or mating) and mutation operators, provided within DEAP, usually take respectively 2 or 1 individual(s) as input and return 2 or 1 modified individual(s). In addition they modify those individuals within the toolbox container and we do not need to reassign their results.\n",
        "\n",
        "We will perform both the crossover (mating) and the mutation of the produced children with a certain probability of CXPB and MUTPB. The del statement will invalidate the fitness of the modified offspring."
      ]
    },
    {
      "cell_type": "code",
      "execution_count": 11,
      "metadata": {
        "id": "M6ssqRncEIDN",
        "pycharm": {
          "name": "#%%\n"
        }
      },
      "outputs": [],
      "source": [
        "def mateAndMutate(offspring):\n",
        "    for child1, child2 in zip(offspring[::2], offspring[1::2]):\n",
        "        if random.random() < CXPB:\n",
        "            toolbox.mate(child1, child2)\n",
        "            del child1.fitness.values\n",
        "            del child2.fitness.values\n",
        "\n",
        "    for mutant in offspring:\n",
        "        if random.random() < MUTPB:\n",
        "            toolbox.mutate(mutant)\n",
        "            del mutant.fitness.values\n",
        "            \n"
      ]
    },
    {
      "cell_type": "markdown",
      "metadata": {
        "id": "mEOPfK92--q-",
        "pycharm": {
          "name": "#%% md\n"
        }
      },
      "source": [
        "## The Main Loop\n",
        "\n",
        "This will creates an offspring list, which is an exact copy of the selected individuals. The toolbox.clone() method ensure that we don’t use a reference to the individuals but an completely independent instance. This is of utter importance since the genetic operators in toolbox will modify the provided objects in-place.\n",
        "\n",
        "We then mutate and mate the individuals to find the next generation of individuals.  We evaluate them, and continue until one of our individuals evolves to be the perfect organism (fitness of 100 or more), or until the number of generations reaches 1000.\n",
        "\n",
        "At each generation, we output some statistics about that generation's population, as well as a graph of the genetic material for an arbitrary individual.  A 0 in the genetic material is drawn in red, and a 1 is drawn in blue."
      ]
    },
    {
      "cell_type": "code",
      "execution_count": 45,
      "metadata": {
        "colab": {
          "base_uri": "https://localhost:8080/",
          "height": 1000
        },
        "id": "Df-rsxoX-6vj",
        "outputId": "9e605460-0288-4ec2-a3fc-22ba97414546",
        "pycharm": {
          "name": "#%%\n"
        }
      },
      "outputs": [
        {
          "name": "stdout",
          "output_type": "stream",
          "text": [
            "-- Generation 1 --\n",
            "[0.01693274917522203, 0.8256402654834658, 0.9433934360559263, 0.34131640014504194, 0.16092841578325556, 0.7313405989775279, 0.7215829272283485, 0.9063375436581736]\n"
          ]
        },
        {
          "ename": "AttributeError",
          "evalue": "'Individual' object has no attribute 'T'",
          "output_type": "error",
          "traceback": [
            "\u001b[1;31m---------------------------------------------------------------------------\u001b[0m",
            "\u001b[1;31mAttributeError\u001b[0m                            Traceback (most recent call last)",
            "Cell \u001b[1;32mIn [45], line 21\u001b[0m\n\u001b[0;32m     19\u001b[0m invalid_ind \u001b[38;5;241m=\u001b[39m [ind \u001b[38;5;28;01mfor\u001b[39;00m ind \u001b[38;5;129;01min\u001b[39;00m offspring \u001b[38;5;28;01mif\u001b[39;00m \u001b[38;5;129;01mnot\u001b[39;00m ind\u001b[38;5;241m.\u001b[39mfitness\u001b[38;5;241m.\u001b[39mvalid]\n\u001b[0;32m     20\u001b[0m fitnesses \u001b[38;5;241m=\u001b[39m \u001b[38;5;28mmap\u001b[39m(toolbox\u001b[38;5;241m.\u001b[39mevaluate, invalid_ind)\n\u001b[1;32m---> 21\u001b[0m \u001b[38;5;28;01mfor\u001b[39;00m ind, fit \u001b[38;5;129;01min\u001b[39;00m \u001b[38;5;28mzip\u001b[39m(invalid_ind, fitnesses):\n\u001b[0;32m     22\u001b[0m     ind\u001b[38;5;241m.\u001b[39mfitness\u001b[38;5;241m.\u001b[39mvalues \u001b[38;5;241m=\u001b[39m fit\n\u001b[0;32m     23\u001b[0m pop[:] \u001b[38;5;241m=\u001b[39m offspring\n",
            "Cell \u001b[1;32mIn [40], line 28\u001b[0m, in \u001b[0;36meval\u001b[1;34m(ind)\u001b[0m\n\u001b[0;32m     25\u001b[0m step \u001b[38;5;241m=\u001b[39m \u001b[38;5;241m0\u001b[39m\n\u001b[0;32m     26\u001b[0m \u001b[38;5;28;01mwhile\u001b[39;00m \u001b[38;5;129;01mnot\u001b[39;00m done \u001b[38;5;129;01mand\u001b[39;00m step \u001b[38;5;241m<\u001b[39m \u001b[38;5;241m1000\u001b[39m:\n\u001b[1;32m---> 28\u001b[0m     action \u001b[38;5;241m=\u001b[39m \u001b[43mget_action\u001b[49m\u001b[43m(\u001b[49m\u001b[43mind\u001b[49m\u001b[43m,\u001b[49m\u001b[43m \u001b[49m\u001b[43mobs\u001b[49m\u001b[43m)\u001b[49m\n\u001b[0;32m     29\u001b[0m     next_state, reward, done, _, _ \u001b[38;5;241m=\u001b[39m env\u001b[38;5;241m.\u001b[39mstep(action)\n\u001b[0;32m     31\u001b[0m     total_reward \u001b[38;5;241m+\u001b[39m\u001b[38;5;241m=\u001b[39m reward\n",
            "Cell \u001b[1;32mIn [44], line 21\u001b[0m, in \u001b[0;36mget_action\u001b[1;34m(individual, obs)\u001b[0m\n\u001b[0;32m     19\u001b[0m \u001b[38;5;28mprint\u001b[39m(individual)\n\u001b[0;32m     20\u001b[0m \u001b[38;5;66;03m#return 0\u001b[39;00m\n\u001b[1;32m---> 21\u001b[0m \u001b[38;5;28;01mreturn\u001b[39;00m np\u001b[38;5;241m.\u001b[39margmax(np\u001b[38;5;241m.\u001b[39mmatmul(\u001b[43mindividual\u001b[49m\u001b[38;5;241;43m.\u001b[39;49m\u001b[43mT\u001b[49m, obs))\n",
            "\u001b[1;31mAttributeError\u001b[0m: 'Individual' object has no attribute 'T'"
          ]
        }
      ],
      "source": [
        "import numpy as np\n",
        "# Variable keeping track of the number of generations\n",
        "g = 0\n",
        "\n",
        "# Begin the evolution\n",
        "while max(fits) < 100 and g < 1000:\n",
        "    # A new generation\n",
        "    g = g + 1\n",
        "    print(\"-- Generation %i --\" % g)\n",
        "    # Select the next generation individuals\n",
        "    offspring = toolbox.select(pop, len(pop))\n",
        "    # Clone the selected individuals\n",
        "    offspring = list(map(toolbox.clone, offspring))\n",
        "    \n",
        "    # Apply crossover and mutation on the offspring\n",
        "    mateAndMutate(offspring)\n",
        "    \n",
        "    # Evaluate the individuals with an invalid fitness\n",
        "    invalid_ind = [ind for ind in offspring if not ind.fitness.valid]\n",
        "    fitnesses = map(toolbox.evaluate, invalid_ind)\n",
        "    for ind, fit in zip(invalid_ind, fitnesses):\n",
        "        ind.fitness.values = fit\n",
        "    pop[:] = offspring\n",
        "    \n",
        "    # print statistics on our updated population\n",
        "    fits=findFitness()\n",
        "\n",
        "    # plot an arbitrary organism\n",
        "    x = [i/100 for i in range(len(pop[0]))]\n",
        "    y = [1 for i in x]\n",
        "    colors = ['r' if pop[0][i]==0 else 'b' for i in range(len(pop[0]))]\n",
        "    #plt.scatter(x, y, c=colors, alpha=0.5)\n",
        "    #plt.show()\n",
        "#plt.scatter(x,y, c=colors, alpha=.5)\n",
        "#plt.show()"
      ]
    },
    {
      "cell_type": "markdown",
      "metadata": {
        "id": "Cot8XdQGq5Fq",
        "pycharm": {
          "name": "#%% md\n"
        }
      },
      "source": [
        "# Your tasks:\n",
        "This lab *is* fairly open-ended. I look forward to seeing what you come up with:\n",
        "\n",
        "## 1. Find optimum with ES.\n",
        "Chose an [artificial landscape](https://en.wikipedia.org/wiki/Test_functions_for_optimization). Find optimum using an evolutionary strategy we talked about in class."
      ]
    },
    {
      "cell_type": "code",
      "execution_count": 10,
      "metadata": {
        "colab": {
          "base_uri": "https://localhost:8080/"
        },
        "id": "YbCW9XOb3-F6",
        "outputId": "3bbab7c7-b579-4f91-93f5-ae8a0b999002",
        "pycharm": {
          "name": "#%%\n"
        }
      },
      "outputs": [
        {
          "data": {
            "text/plain": [
              "(1.0000035931253388, 3.0000000995924334)"
            ]
          },
          "execution_count": 10,
          "metadata": {},
          "output_type": "execute_result"
        }
      ],
      "source": [
        "# Artifical landscape\n",
        "import random\n",
        "import sys\n",
        "#from statistics import variance\n",
        "\n",
        "def booth_function(x, y):\n",
        "  return (x+2*y-7)**2 + (2*x+y-5)**2\n",
        "\n",
        "def matyas_function(x, y):\n",
        "  return 0.26 * (x**2 + y**2) - 0.48*x*y\n",
        "\n",
        "def points_mean(points):\n",
        "  sums = []\n",
        "  sum_x = 0\n",
        "  sum_y = 0\n",
        "  n = len(points)\n",
        "  for i in range(n):\n",
        "    sum_x += points[i][0]\n",
        "    sum_y += points[i][1]\n",
        "  return (sum_x/n, sum_y/n)\n",
        "\n",
        "def points_variance(points, mean):\n",
        "  var_x = 0\n",
        "  var_y = 0\n",
        "  mean_x = mean[0]\n",
        "  mean_y = mean[1]\n",
        "  n = len(points)\n",
        "  for i in range(n):\n",
        "    xi = points[i][0]\n",
        "    yi = points[i][1]\n",
        "    var_x += (xi - mean_x)**2\n",
        "    var_y += (yi - mean_y)**2\n",
        "\n",
        "  var_x /= n\n",
        "  var_y /= n\n",
        "  return (var_x, var_y)\n",
        "\n",
        "def fitness(points, landscape):\n",
        "  p_min = sys.maxsize\n",
        "  i_best = -1\n",
        "  for i in range(len(points)):\n",
        "    xi = points[i][0]\n",
        "    yi = points[i][1]\n",
        "    v = landscape(xi, yi)\n",
        "    if v < p_min:\n",
        "      p_min = v\n",
        "      i_best = i\n",
        "  return points[i_best]\n",
        "\n",
        "\n",
        "def generate_points(n, spread, mean):\n",
        "  points = []\n",
        "  for i in range(n):\n",
        "    p = (((random.random() - 0.5) * spread) + mean[0], \n",
        "         ((random.random() - 0.5) * spread) + mean[1])\n",
        "    points.append(p)\n",
        "  return points\n",
        "\n",
        "#landscape = booth_function\n",
        "\n",
        "# Simple evolutionary algorithm\n",
        "def SES(n, landscape, iter=100):\n",
        "  # generate random points\n",
        "\n",
        "  o_spread = 0.1\n",
        "  spread = o_spread\n",
        "  points = generate_points(n, spread, (0,0))\n",
        "\n",
        "  best = None\n",
        "\n",
        "  for i in range(iter):\n",
        "    best = fitness(points, landscape)\n",
        "    p_mean = best\n",
        "\n",
        "    points = generate_points(n, spread, p_mean)\n",
        "    p_var = points_variance(points, p_mean)\n",
        "    spread = o_spread * (iter-i)/iter\n",
        "  \n",
        "  return best\n",
        "\n",
        "#print(SES(10))\n",
        "\n",
        "SES(100, booth_function, iter=1000)\n",
        "#SES(100, matyas_function, iter=10000)\n",
        "\n",
        "#print(landscape(2,3))\n",
        "\n"
      ]
    },
    {
      "cell_type": "markdown",
      "metadata": {
        "collapsed": false,
        "id": "lbir-5hE3-F7",
        "pycharm": {
          "name": "#%% md\n"
        }
      },
      "source": [
        "## 2. Evolve a simple gaming neural net with GA.\n",
        "Evolve a neural network that plays a game of your choice from `gym` (LunarLander-v2 is cool).\n",
        "We don't need `torch` since we don't care about gradients. We can use numpy—numpy matrices can easily be multiplied.\n",
        "`deap` *can* deal with numpy arrays, though I recommend making functions that map weights to lists and vice versa."
      ]
    },
    {
      "cell_type": "code",
      "execution_count": 5,
      "metadata": {},
      "outputs": [
        {
          "name": "stderr",
          "output_type": "stream",
          "text": [
            "C:\\Users\\patri\\AppData\\Local\\Temp\\ipykernel_26324\\935614861.py:31: VisibleDeprecationWarning: Creating an ndarray from ragged nested sequences (which is a list-or-tuple of lists-or-tuples-or ndarrays with different lengths or shapes) is deprecated. If you meant to do this, you must specify 'dtype=object' when creating the ndarray.\n",
            "  individual = np.array(individual)\n"
          ]
        },
        {
          "name": "stdout",
          "output_type": "stream",
          "text": [
            "Generation:  0\n",
            "  Min -2931.7058310627003\n",
            "  Max 248.52783564833015\n",
            "  Median -273.0468919195441\n",
            "  Std 315.35199963674046\n"
          ]
        },
        {
          "ename": "KeyboardInterrupt",
          "evalue": "",
          "output_type": "error",
          "traceback": [
            "\u001b[1;31m---------------------------------------------------------------------------\u001b[0m",
            "\u001b[1;31mKeyboardInterrupt\u001b[0m                         Traceback (most recent call last)",
            "Cell \u001b[1;32mIn [5], line 172\u001b[0m\n\u001b[0;32m    168\u001b[0m         plt\u001b[38;5;241m.\u001b[39mdraw()\n\u001b[0;32m    169\u001b[0m         plt\u001b[38;5;241m.\u001b[39mpause(\u001b[38;5;241m0.1\u001b[39m)\n\u001b[1;32m--> 172\u001b[0m train_SGA(n_individuals, \u001b[38;5;241m1000\u001b[39m)\n",
            "Cell \u001b[1;32mIn [5], line 145\u001b[0m, in \u001b[0;36mtrain_SGA\u001b[1;34m(n, g_limit)\u001b[0m\n\u001b[0;32m    142\u001b[0m max_fitness \u001b[38;5;241m=\u001b[39m \u001b[38;5;241m-\u001b[39m\u001b[38;5;241m1000\u001b[39m\n\u001b[0;32m    144\u001b[0m \u001b[38;5;28;01mfor\u001b[39;00m i \u001b[38;5;129;01min\u001b[39;00m \u001b[38;5;28mrange\u001b[39m(n):\n\u001b[1;32m--> 145\u001b[0m     fit \u001b[38;5;241m=\u001b[39m \u001b[43mtoolbox\u001b[49m\u001b[38;5;241;43m.\u001b[39;49m\u001b[43mevaluate\u001b[49m\u001b[43m(\u001b[49m\u001b[43moffspring\u001b[49m\u001b[43m[\u001b[49m\u001b[43mi\u001b[49m\u001b[43m]\u001b[49m\u001b[43m)\u001b[49m\n\u001b[0;32m    146\u001b[0m     \u001b[38;5;28;01mif\u001b[39;00m fit[\u001b[38;5;241m0\u001b[39m] \u001b[38;5;241m>\u001b[39m max_fitness:\n\u001b[0;32m    147\u001b[0m         max_fitness_index \u001b[38;5;241m=\u001b[39m i\n",
            "Cell \u001b[1;32mIn [5], line 41\u001b[0m, in \u001b[0;36meval_lunar_lander\u001b[1;34m(ind)\u001b[0m\n\u001b[0;32m     39\u001b[0m steps \u001b[38;5;241m=\u001b[39m \u001b[38;5;241m0\u001b[39m\n\u001b[0;32m     40\u001b[0m \u001b[38;5;28;01mwhile\u001b[39;00m \u001b[38;5;129;01mnot\u001b[39;00m done \u001b[38;5;129;01mand\u001b[39;00m steps \u001b[38;5;241m<\u001b[39m \u001b[38;5;241m300\u001b[39m:\n\u001b[1;32m---> 41\u001b[0m     action \u001b[38;5;241m=\u001b[39m \u001b[43mget_action\u001b[49m\u001b[43m(\u001b[49m\u001b[43mind\u001b[49m\u001b[43m,\u001b[49m\u001b[43m \u001b[49m\u001b[43mobs\u001b[49m\u001b[43m)\u001b[49m\n\u001b[0;32m     42\u001b[0m     next_state, reward, done, _, _ \u001b[38;5;241m=\u001b[39m env\u001b[38;5;241m.\u001b[39mstep(action)\n\u001b[0;32m     43\u001b[0m     obs \u001b[38;5;241m=\u001b[39m next_state\n",
            "Cell \u001b[1;32mIn [5], line 33\u001b[0m, in \u001b[0;36mget_action\u001b[1;34m(individual, obs)\u001b[0m\n\u001b[0;32m     31\u001b[0m individual \u001b[38;5;241m=\u001b[39m np\u001b[38;5;241m.\u001b[39marray(individual)\n\u001b[0;32m     32\u001b[0m mut \u001b[38;5;241m=\u001b[39m np\u001b[38;5;241m.\u001b[39mmatmul(individual[\u001b[38;5;241m0\u001b[39m], individual[\u001b[38;5;241m1\u001b[39m])\n\u001b[1;32m---> 33\u001b[0m \u001b[38;5;28;01mreturn\u001b[39;00m \u001b[43mnp\u001b[49m\u001b[38;5;241;43m.\u001b[39;49m\u001b[43margmax\u001b[49m\u001b[43m(\u001b[49m\u001b[43mnp\u001b[49m\u001b[38;5;241;43m.\u001b[39;49m\u001b[43mmatmul\u001b[49m\u001b[43m(\u001b[49m\u001b[43mmut\u001b[49m\u001b[38;5;241;43m.\u001b[39;49m\u001b[43mT\u001b[49m\u001b[43m,\u001b[49m\u001b[43m \u001b[49m\u001b[43mobs\u001b[49m\u001b[43m)\u001b[49m\u001b[43m)\u001b[49m\n",
            "File \u001b[1;32m<__array_function__ internals>:180\u001b[0m, in \u001b[0;36margmax\u001b[1;34m(*args, **kwargs)\u001b[0m\n",
            "File \u001b[1;32mc:\\Python\\Python310\\lib\\site-packages\\numpy\\core\\fromnumeric.py:1216\u001b[0m, in \u001b[0;36margmax\u001b[1;34m(a, axis, out, keepdims)\u001b[0m\n\u001b[0;32m   1129\u001b[0m \u001b[39m\"\"\"\u001b[39;00m\n\u001b[0;32m   1130\u001b[0m \u001b[39mReturns the indices of the maximum values along an axis.\u001b[39;00m\n\u001b[0;32m   1131\u001b[0m \n\u001b[1;32m   (...)\u001b[0m\n\u001b[0;32m   1213\u001b[0m \u001b[39m(2, 1, 4)\u001b[39;00m\n\u001b[0;32m   1214\u001b[0m \u001b[39m\"\"\"\u001b[39;00m\n\u001b[0;32m   1215\u001b[0m kwds \u001b[39m=\u001b[39m {\u001b[39m'\u001b[39m\u001b[39mkeepdims\u001b[39m\u001b[39m'\u001b[39m: keepdims} \u001b[39mif\u001b[39;00m keepdims \u001b[39mis\u001b[39;00m \u001b[39mnot\u001b[39;00m np\u001b[39m.\u001b[39m_NoValue \u001b[39melse\u001b[39;00m {}\n\u001b[1;32m-> 1216\u001b[0m \u001b[39mreturn\u001b[39;00m _wrapfunc(a, \u001b[39m'\u001b[39m\u001b[39margmax\u001b[39m\u001b[39m'\u001b[39m, axis\u001b[39m=\u001b[39maxis, out\u001b[39m=\u001b[39mout, \u001b[39m*\u001b[39m\u001b[39m*\u001b[39mkwds)\n",
            "File \u001b[1;32mc:\\Python\\Python310\\lib\\site-packages\\numpy\\core\\fromnumeric.py:57\u001b[0m, in \u001b[0;36m_wrapfunc\u001b[1;34m(obj, method, *args, **kwds)\u001b[0m\n\u001b[0;32m     54\u001b[0m     \u001b[39mreturn\u001b[39;00m _wrapit(obj, method, \u001b[39m*\u001b[39margs, \u001b[39m*\u001b[39m\u001b[39m*\u001b[39mkwds)\n\u001b[0;32m     56\u001b[0m \u001b[39mtry\u001b[39;00m:\n\u001b[1;32m---> 57\u001b[0m     \u001b[39mreturn\u001b[39;00m bound(\u001b[39m*\u001b[39margs, \u001b[39m*\u001b[39m\u001b[39m*\u001b[39mkwds)\n\u001b[0;32m     58\u001b[0m \u001b[39mexcept\u001b[39;00m \u001b[39mTypeError\u001b[39;00m:\n\u001b[0;32m     59\u001b[0m     \u001b[39m# A TypeError occurs if the object does have such a method in its\u001b[39;00m\n\u001b[0;32m     60\u001b[0m     \u001b[39m# class, but its signature is not identical to that of NumPy's. This\u001b[39;00m\n\u001b[1;32m   (...)\u001b[0m\n\u001b[0;32m     64\u001b[0m     \u001b[39m# Call _wrapit from within the except clause to ensure a potential\u001b[39;00m\n\u001b[0;32m     65\u001b[0m     \u001b[39m# exception has a traceback chain.\u001b[39;00m\n\u001b[0;32m     66\u001b[0m     \u001b[39mreturn\u001b[39;00m _wrapit(obj, method, \u001b[39m*\u001b[39margs, \u001b[39m*\u001b[39m\u001b[39m*\u001b[39mkwds)\n",
            "\u001b[1;31mKeyboardInterrupt\u001b[0m: "
          ]
        }
      ],
      "source": [
        "import gym\n",
        "import random\n",
        "import numpy as np\n",
        "import matplotlib.pyplot as plt\n",
        "from gym.utils.play import play\n",
        "from deap import base\n",
        "from deap import creator\n",
        "from deap import tools\n",
        "\n",
        "# CXPB  is the probability with which two individuals\n",
        "#       are crossed\n",
        "# \n",
        "# MUTPB is the probability for mutating an individual\n",
        "CXPB, MUTPB = 0.5, 0.5\n",
        "\n",
        "gauss, flip = 0.5, 0.1\n",
        "\n",
        "n_individuals = 300\n",
        "env = gym.make(\"LunarLander-v2\", continuous = False)\n",
        "\n",
        "input, output = env.observation_space.shape[0], env.action_space.n\n",
        "\n",
        "def network(ind):\n",
        "    l1_out = 32\n",
        "    l1 = np.random.rand(input, l1_out) \n",
        "    l2 = np.random.rand(l1_out, output)\n",
        "    layers = [l1, l2]\n",
        "    return ind(layers)\n",
        "\n",
        "def get_action(individual, obs):\n",
        "    individual = np.array(individual)\n",
        "    mut = np.matmul(individual[0], individual[1])\n",
        "    return np.argmax(np.matmul(mut.T, obs))\n",
        "\n",
        "def eval_lunar_lander(ind):\n",
        "    obs, _ = env.reset()\n",
        "    done = False\n",
        "    total_reward = 0\n",
        "    steps = 0\n",
        "    while not done and steps < 300:\n",
        "        action = get_action(ind, obs)\n",
        "        next_state, reward, done, _, _ = env.step(action)\n",
        "        obs = next_state\n",
        "        total_reward += reward\n",
        "        steps += 1\n",
        "\n",
        "    return total_reward,\n",
        "\n",
        "def run_normal(ind):\n",
        "    env2 = gym.make(\"LunarLander-v2\", continuous = False, render_mode='human')\n",
        "    obs, _ = env2.reset()\n",
        "    done = False\n",
        "    steps = 0\n",
        "    while not done and steps < 300:\n",
        "        env2.render()\n",
        "        action = get_action(ind, obs)\n",
        "        next_state, reward, done, _, _ = env2.step(action)\n",
        "        obs = next_state\n",
        "        steps += 1\n",
        "\n",
        "    env2.close()\n",
        "\n",
        "creator.create(\"FitnessMax\", base.Fitness, weights=(1.0,))\n",
        "creator.create(\"Individual\", list, fitness=creator.FitnessMax)\n",
        "\n",
        "toolbox = base.Toolbox()    \n",
        "\n",
        "toolbox.register(\"individual\", network, creator.Individual)\n",
        "toolbox.register(\"population\", tools.initRepeat, list, toolbox.individual)\n",
        "\n",
        "toolbox.register(\"evaluate\", eval_lunar_lander)\n",
        "toolbox.register(\"mate\", tools.cxUniform, indpb=0.5)\n",
        "toolbox.register(\"mutate\", tools.mutFlipBit, indpb=0.2)\n",
        "toolbox.register(\"select\", tools.selTournament, tournsize=3)\n",
        "\n",
        "def findFitness(pop):\n",
        "    fits = [ind.fitness.values[0] for ind in pop]\n",
        "        \n",
        "    length = len(pop)\n",
        "    mean = sum(fits) / length\n",
        "    fits.sort()\n",
        "    mid = fits[int(len(fits)/2)]\n",
        "    sum2 = sum(x*x for x in fits)\n",
        "    std = abs(sum2 / length - mean**2)**0.5\n",
        "\n",
        "    print(\"  Min %s\" % min(fits))\n",
        "    print(\"  Max %s\" % max(fits))\n",
        "    #print(\"  Avg %s\" % mean)\n",
        "    print(\"  Median %s\" % mid)\n",
        "    print(\"  Std %s\" % std)\n",
        "    return fits\n",
        "\n",
        "\n",
        "def mutate(offspring):\n",
        "    for ind in offspring:\n",
        "        if random.random() < flip:\n",
        "            for layer in ind:\n",
        "                for node in layer:\n",
        "                    toolbox.mutate(node)\n",
        "                    #tools.mutFlipBit(indpb=0.2)\n",
        "            del ind.fitness.values\n",
        "        if random.random() < gauss:\n",
        "            tools.mutGaussian(ind, 0.0, 0.2, 0.5)\n",
        "            del ind.fitness.values\n",
        "\n",
        "def mate(offspring):\n",
        "    children = []\n",
        "    for child1, child2 in zip(offspring[::2], offspring[1::2]):\n",
        "        if random.random() < CXPB:\n",
        "            child = toolbox.mate(child1, child2)\n",
        "            children.append(child)\n",
        "            del child1.fitness.values\n",
        "            del child2.fitness.values\n",
        "\n",
        "    return children\n",
        "\n",
        "def train_SGA(n, g_limit):\n",
        "    pop = toolbox.population(n)\n",
        "\n",
        "    for i in range(n):\n",
        "        fit = toolbox.evaluate(pop[i])\n",
        "        pop[i].fitness.values = fit\n",
        "\n",
        "    plt.ion()\n",
        "    plt.show()\n",
        "    plt.xlabel('generation')\n",
        "    plt.ylabel('median score')\n",
        "    plt.title('Lunar lander')\n",
        "    x = []\n",
        "    y = []\n",
        "\n",
        "    for g in range(g_limit):\n",
        "\n",
        "        offspring = toolbox.select(pop, len(pop))\n",
        "        offspring = list(map(toolbox.clone, offspring))\n",
        "\n",
        "        mutate(offspring)\n",
        "        mate(offspring)\n",
        "\n",
        "        # Evaluate population\n",
        "        max_fitness_index = -1\n",
        "        max_fitness = -1000\n",
        "\n",
        "        for i in range(n):\n",
        "            fit = toolbox.evaluate(offspring[i])\n",
        "            if fit[0] > max_fitness:\n",
        "                max_fitness_index = i\n",
        "                max_fitness = fit[0]\n",
        "            offspring[i].fitness.values = fit\n",
        "\n",
        "        #Run with best AI\n",
        "        best = offspring[max_fitness_index]\n",
        "        for i in range(3):\n",
        "            run_normal(best)\n",
        "\n",
        "        pop[:] = offspring\n",
        "\n",
        "\n",
        "\n",
        "        print(\"Generation: \", g)\n",
        "        fits=findFitness(pop)\n",
        "\n",
        "        x.append(g)\n",
        "        y.append(fits[int(len(fits)/2)])\n",
        "        #y.append(sum(fits) / len(fits))\n",
        "        plt.plot(x, y)\n",
        "\n",
        "        plt.draw()\n",
        "        plt.pause(0.1)\n",
        "\n",
        "\n",
        "train_SGA(n_individuals, 1000)"
      ]
    },
    {
      "cell_type": "markdown",
      "metadata": {},
      "source": []
    },
    {
      "cell_type": "markdown",
      "metadata": {
        "collapsed": false,
        "id": "W-KK4XtB3-F7",
        "pycharm": {
          "name": "#%% md\n"
        }
      },
      "source": [
        "## 3. Implement Hebbian Learning on AND and OR logic gates.\n",
        "Make functions that given an input of the kind `[1,1,0]`, `[0,0,0]`, etc.:\n",
        "1. Returns 1 if input is all ones, otherwise 0 (AND).\n",
        "2. Returns 1 if at least one element is 1, otherwise 0 (OR).\n",
        "3. Optional: XOR."
      ]
    },
    {
      "cell_type": "code",
      "execution_count": 171,
      "metadata": {},
      "outputs": [
        {
          "name": "stderr",
          "output_type": "stream",
          "text": [
            "c:\\Python\\Python310\\lib\\site-packages\\deap\\creator.py:138: RuntimeWarning: A class named 'FitnessMax' has already been created and it will be overwritten. Consider deleting previous creation of that class or rename it.\n",
            "  warnings.warn(\"A class named '{0}' has already been created and it \"\n",
            "c:\\Python\\Python310\\lib\\site-packages\\deap\\creator.py:138: RuntimeWarning: A class named 'Individual' has already been created and it will be overwritten. Consider deleting previous creation of that class or rename it.\n",
            "  warnings.warn(\"A class named '{0}' has already been created and it \"\n"
          ]
        }
      ],
      "source": [
        "import gym\n",
        "import random\n",
        "import numpy as np\n",
        "import matplotlib.pyplot as plt\n",
        "from gym.utils.play import play\n",
        "from deap import base\n",
        "from deap import creator\n",
        "from deap import tools\n",
        "\n",
        "creator.create(\"FitnessMax\", base.Fitness, weights=(1.0,))\n",
        "creator.create(\"Individual\", list, fitness=creator.FitnessMax)\n",
        "\n",
        "toolbox = base.Toolbox()\n",
        "\n",
        "toolbox.register(\"individual\", network, creator.Individual)\n",
        "toolbox.register(\"population\", tools.initRepeat, list, toolbox.individual)\n",
        "\n",
        "toolbox.register(\"evaluate\", eval_lunar_lander)\n",
        "toolbox.register(\"mate\", tools.cxUniform, indpb=0.5)\n",
        "toolbox.register(\"mutate\", tools.mutFlipBit, indpb=0.2)\n",
        "toolbox.register(\"select\", tools.selTournament, tournsize=3)"
      ]
    },
    {
      "cell_type": "code",
      "execution_count": 7,
      "metadata": {
        "id": "pg-aVZyh3-F7",
        "pycharm": {
          "name": "#%%\n"
        }
      },
      "outputs": [
        {
          "name": "stdout",
          "output_type": "stream",
          "text": [
            "AND success:  True\n",
            "OR success:  True\n"
          ]
        }
      ],
      "source": [
        "def generate_input(pair_size, pair_count):\n",
        "    input = np.random.randint(low= 0, high=2, size=(pair_count, pair_size))\n",
        "\n",
        "    return input\n",
        "\n",
        "def generate_target_and(input):\n",
        "    pair_count = input.shape[0]\n",
        "    pair_size = input.shape[1]\n",
        "\n",
        "    target = np.zeros(pair_count)\n",
        "    for i in range(pair_count):\n",
        "        is_one = True\n",
        "        for j in range(pair_size):\n",
        "            is_one &= input[i, j]\n",
        "            if not is_one:\n",
        "                break\n",
        "        if is_one:\n",
        "            target[i] = 1\n",
        "        else:\n",
        "            target[i] = 0\n",
        "\n",
        "    return target\n",
        "\n",
        "def generate_target_or(input):\n",
        "    pair_count = input.shape[0]\n",
        "    pair_size = input.shape[1]\n",
        "\n",
        "    target = np.zeros(pair_count)\n",
        "    for i in range(pair_count):\n",
        "        for j in range(pair_size):\n",
        "            if input[i, j]:\n",
        "                target[i] = 1\n",
        "                break\n",
        "\n",
        "    return target\n",
        "\n",
        "def test_hebbian_and(input, target, weights, bias):\n",
        "    \n",
        "    success = True\n",
        "    for i in range(input.shape[0]):\n",
        "        x = input[i]\n",
        "        y = np.matmul(x, weights)\n",
        "        y = y + bias\n",
        "        if y > 0:\n",
        "            y = 1\n",
        "        else:\n",
        "            y = 0\n",
        "\n",
        "        t = target[i]\n",
        "\n",
        "        if y != t:\n",
        "            success = False\n",
        "            break\n",
        "\n",
        "    print(\"AND success: \", success)\n",
        "    \n",
        "def test_hebbian_or(input, target, weights, bias):\n",
        "\n",
        "    success = True\n",
        "    for i in range(input.shape[0]):\n",
        "        x = input[i]\n",
        "        y = np.matmul(x, weights)\n",
        "        y = y + bias\n",
        "        t = target[i]\n",
        "        #print(y)\n",
        "        #print(t)\n",
        "        if y > 0:\n",
        "            y = 1\n",
        "        else:\n",
        "            y = 0\n",
        "        \n",
        "        if y != t:\n",
        "            success = False\n",
        "            break\n",
        "\n",
        "    print(\"OR success: \", success)\n",
        "\n",
        "def hebbian_and(input, target):\n",
        "    w = np.zeros((input.shape[1]))\n",
        "    b = -1\n",
        "    \n",
        "    for i in range(input.shape[0]):\n",
        "        x = input[i]\n",
        "        y = target[i]\n",
        "        w = w + x*y\n",
        "        b = b - 2*y\n",
        "\n",
        "    return (w, b)\n",
        "\n",
        "def hebbian_or(input, target):\n",
        "    w = np.zeros((input.shape[1]))\n",
        "    b = 0\n",
        "\n",
        "    for i in range(input.shape[0]):\n",
        "        x = input[i]\n",
        "        y = target[i]\n",
        "        w = w + x*y\n",
        "        b = b\n",
        "\n",
        "    return (w, b)\n",
        "\n",
        "input_training = generate_input(3, 100)\n",
        "target_training_and = generate_target_and(input_training)\n",
        "target_training_or = generate_target_or(input_training)\n",
        "\n",
        "weights_and, bias_and = hebbian_and(input_training, target_training_and)\n",
        "weights_or, bias_or = hebbian_or(input_training, target_training_or)\n",
        "\n",
        "input_test = generate_input(3, 1000)\n",
        "target_test_and = generate_target_and(input_test)\n",
        "target_test_or = generate_target_or(input_test)\n",
        "\n",
        "test_hebbian_and(input_test, target_test_and, weights_and, bias_and)\n",
        "test_hebbian_or(input_test, target_test_or, weights_or, bias_or)"
      ]
    },
    {
      "cell_type": "markdown",
      "metadata": {
        "collapsed": false,
        "id": "oUEJomYN3-F7",
        "pycharm": {
          "name": "#%% md\n"
        }
      },
      "source": [
        "## Optional (and awesome): Do Hebbian Learning over Reinforcement Learning for the Lunar Lander from gym (LunarLander-v2).\n",
        "![](https://www.gymlibrary.dev/_images/lunar_lander.gif)"
      ]
    },
    {
      "cell_type": "code",
      "execution_count": null,
      "metadata": {
        "id": "mMPg4P5-3-F8",
        "pycharm": {
          "name": "#%%\n"
        }
      },
      "outputs": [],
      "source": [
        "# Your code"
      ]
    }
  ],
  "metadata": {
    "colab": {
      "collapsed_sections": [
        "0V9I6y4g9zrj",
        "W-KK4XtB3-F7",
        "oUEJomYN3-F7"
      ],
      "provenance": []
    },
    "kernelspec": {
      "display_name": "Python 3.10.7 64-bit",
      "language": "python",
      "name": "python3"
    },
    "language_info": {
      "codemirror_mode": {
        "name": "ipython",
        "version": 3
      },
      "file_extension": ".py",
      "mimetype": "text/x-python",
      "name": "python",
      "nbconvert_exporter": "python",
      "pygments_lexer": "ipython3",
      "version": "3.10.7"
    },
    "vscode": {
      "interpreter": {
        "hash": "d3e10ef16274dd72e574b8fa73b58450b957d8421a2901baded3cca26fcf5dda"
      }
    }
  },
  "nbformat": 4,
  "nbformat_minor": 0
}
